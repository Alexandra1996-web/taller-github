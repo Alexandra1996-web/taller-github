{
 "cells": [
  {
   "cell_type": "markdown",
   "metadata": {},
   "source": [
    "### **Control de versiones:** Taller Github 🥳\n",
    "\n",
    "\n"
   ]
  },
  {
   "cell_type": "markdown",
   "metadata": {},
   "source": [
    "### **Git y Github**\n",
    "\n",
    "Git es un sistema de control de versiones distribuido, gratuito y de código abierto. Es decir, es un tipo de software pensando para hacer un seguimiento claro y ordenado de todos los cambios que vas haciendo en los archivos de un proyecto. Mejor todavía, te permite hacerlo en equipo, de forma colaborativa.\n",
    "\n",
    "Gracias al software de control de versiones, podés mantener tus archivos organizados, coordinados y protegidos, tanto de posibles eventos catastróficos como de los inevitables errores cometidos por tus compañeros de equipo (y bueno, también de los tuyos); si eso sucede es fácil solucionar el problema rescatando lo que haga falta de una versión anterior."
   ]
  },
  {
   "cell_type": "markdown",
   "metadata": {},
   "source": [
    "# Aprender Git en 1 hora: \n",
    "\n",
    "- https://www.youtube.com/watch?v=VdGzPZ31ts8 \n"
   ]
  },
  {
   "cell_type": "markdown",
   "metadata": {},
   "source": [
    "### **Crea un repositorio de Git y haz tu primer commit**\n",
    "\n",
    "Le indicaremos a Git que queremos crear un nuevo repositorio para utilizar un sistema de control de versiones.\n",
    "\n",
    "Solo debemos posicionarnos en la carpeta raíz de nuestro proyecto y ejecutar el comando git init.\n",
    "\n",
    "Recuerda que al ejecutar este comando (y de aquí en adelante) vamos a tener una nueva carpeta llamada .git con toda la base de datos con cambios atómicos en nuestro proyecto.\n",
    "\n",
    "Recuerda que Git está optimizado para trabajar en equipo, por lo tanto, debemos darle un poco de información sobre nosotros. No debemos hacerlo todas las veces que ejecutamos un comando, basta con ejecutar solo una vez los siguientes comandos con tu información:"
   ]
  },
  {
   "cell_type": "markdown",
   "metadata": {},
   "source": [
    "### **Configuracion**\n",
    "\n",
    "\n",
    "- `git config --global user.name \"Alexandra1996-web\"`\n",
    "\n",
    "- `git config --global user.email \"alexcaceres@ieee.org\"`"
   ]
  },
  {
   "cell_type": "markdown",
   "metadata": {},
   "source": [
    "### **Lista de comandos Git mas usados**\n",
    "\n",
    "- `git init `\n",
    "  \n",
    "  Indicamos que el directorio donde nos encontramos comenzará a ser versionado bajo Git.\n",
    "\n",
    "- `git branch -M main`\n",
    "  \n",
    "  Creaer la rama main. Una rama representa una línea independiente de desarrollo. Las ramas sirven como una abstracción de los procesos de cambio, preparación y confirmación. Puedes concebirlas como una forma de solicitar un nuevo directorio de trabajo, un nuevo entorno de ensayo o un nuevo historial de proyecto.\n",
    "\n",
    "- `git remote add origin https://github.com/sofisil/test.git`\n",
    "  Conectarse remotamente al repositorio de GitHub con el HTTP.\n",
    "\n",
    "  Los repositorios remotos son versiones de tu proyecto que están hospedadas en Internet o en cualquier otra red. Puedes tener varios de ellos, y en cada uno tendrás generalmente permisos de solo lectura o de lectura y escritura. Colaborar con otras personas implica gestionar estos repositorios remotos enviando y trayendo datos de ellos cada vez que necesites compartir tu trabajo\n",
    "\n",
    "- `git status `\n",
    "  \n",
    "  Vemos el estado actual de nuestra carpeta versionada así como archivos que no están versionados, archivos modificados, archivos eliminados, etc\n",
    "\n",
    "  Los mensajes que podremos ver con este comando pueden ser los siguientes: \n",
    "  - Untracked files: nos mostrará todos los archivos que no han sido agregados al \"Stage\" \n",
    "  - Changes to be committed: nos indica qué archivos serán agregados a nuestro commit\n",
    "  #\n",
    "\n",
    "- `git add .` \n",
    "  \n",
    "  Agrega los archivos que no están bajo versionamiento (los Untracked files que vimos anteriormente) al área de preparación(Staging Area)\n",
    "\n",
    "- `git add ArchivoEjemplo.py`\n",
    "\n",
    "  Crea el archivo pero no lo guarda de forma definitiva, lo almacena en (Staging Area).\n",
    "\n",
    "\n",
    "\n",
    "- `git commit -m \"mensaje\"`\n",
    "\n",
    "  Confirma los cambios hechos con \"git add\" en una nueva versión del proyecto; con el parámetro \"-m\" le indicamos un mensaje para describir la razón del commit\n",
    "\n",
    "\n",
    "- `git pull origin main`\n",
    "\n",
    "  Trae los archivos del repositorio que esta en GitHub a la carpeta local\n",
    "\n",
    "  Al ser usado luego descargará todos los cambios desde el punto de separación de la rama local y la rama principal\n",
    "\n",
    "- `git push origin main`\n",
    "\n",
    "  Enviar los cambios de la carpeta locl  al repositorio en GitHub\n",
    "\n",
    "\n"
   ]
  },
  {
   "cell_type": "markdown",
   "metadata": {},
   "source": [
    "## Comandos para mover archivos entre los estados de Git\n",
    "\n",
    "- `git reset HEAD`\n",
    "\n",
    "  Nos ayuda a sacar los archivos del estado Staged para devolverlos a su estado anterior. Si los archivos venian de Unstaged, vuelven alli. Y lo mismo si venian de Untracked\n",
    "\n",
    "- `git rm` \n",
    "\n",
    "  Este comando necesita algunos de los argumentos para poder ejecutarse correctamente:\n",
    "\n",
    "- `git rm --cached` \n",
    "\n",
    "  Mueve los archivos que le indiquemos al estado Untracked\n",
    "\n",
    "- git rm --force \n",
    "\n",
    "  Elimina los archivos de Git y del disco duro. Git guarda el registro de la existencia de los archivos, por lo que podremos recuperarlos si es necesario (pero debemos usar comandos más avanzados)"
   ]
  },
  {
   "cell_type": "markdown",
   "metadata": {},
   "source": [
    " ## Qué es un Branch y cómo funciona un Merge? \n",
    "\n",
    "- `git checkout`\n",
    "\n",
    "  Checkout es para cambiar de rama. Sólo la crea con el modificador -b. Unir dos Ramas lo conocemos como Merge\n",
    "\n",
    "- `git checkout -b NombreDeLaRama`\n",
    "\n",
    "  stándar de equipos de desarrollo...\n",
    "    - Rama Master o Main: va a producción\n",
    "    - Rama Development: se alojan las nuevas features, características y experimentos (para unirse al Máster cuando estén definitivamente listas)\n",
    "    - Rama Hotfix: issues o errores se solucionan aquí para unirse al Master tan pronto sea posible"
   ]
  },
  {
   "cell_type": "markdown",
   "metadata": {},
   "source": [
    "  ## Analizar cambios en los archivos de tu proyecto\n",
    "\n",
    "- `git log \"archivo.txt\" `\n",
    "\n",
    "  Sirve para ver el historial del archivo\n",
    "\n",
    "- `git log`\n",
    "  \n",
    "  Muestra la identificación de los commits\n",
    "\n",
    "- para salir de git log : `g`\n",
    "\n",
    "- `git show`\n",
    "\n",
    "  nos muestra los cambios que han existido sobre un archivo y es muy útil para detectar cuando se produjeron ciertos cambios, qué se rompió y cómo lo podemos solucionar. Pero podemos ser mas detallados\n",
    "\n",
    "- `git diff` \n",
    "\n",
    "  Nos muestra la diferencia entre una version y otra, no necesariamente todos los cambios desde la creación. (Gif diff commitA commitB)"
   ]
  },
  {
   "cell_type": "markdown",
   "metadata": {},
   "source": [
    "  ## Reset y checkout\n",
    "\n",
    "- `git checkout + Id del commit`\n",
    "\n",
    "  Podemos volver a cualquier versión anterior de un archivo específico o incluso de nuestro proyecto entero. Esta es también es la forma de movernos entre ramas\n",
    "\n",
    "- `git log --stat`  \n",
    "  \n",
    "  Commit descriptivo con cantidad de líneas agregadas y removidas por archivo\n",
    "\n",
    "- `git reset --soft 'commit'`\n",
    "  \n",
    "  Mantiene los archivos en el área de Staging para que podamos aplicar nuestros últimos cambios desde un commit anterior\n",
    "\n",
    "- `git reset --hard 'commit'`\n",
    "\n",
    "  borra toda la información que tengamos en el área de Staging. (Perdiendo todo para siempre)\n",
    "\n",
    "- `git checkout master 'archivo.txt'`\n",
    "\n",
    "  Volvemos a la versión madre\n"
   ]
  },
  {
   "cell_type": "markdown",
   "metadata": {},
   "source": [
    "  ## Ramas o branches\n",
    "  \n",
    "  Las ramas son la forma de hacer cambios en nuestro proyecto sin afectar el flujo de trabajo de la rama principal. Esto porque queremos trabajar una parte muy específica de la aplicación o simplemente experimentar\n",
    "\n",
    "  La cabecera o head representan la rama y el commit de esa rama estamos donde trabajando. Por defecto, esta cabecera aparecerá en el último commit de nuestra rama principal. Pero podemos cambiarlo al crear una rama \n",
    "  \n",
    "- `git branch rama`\n",
    "\n",
    "- `git checkout -b rama`\n",
    "\n",
    "o movernos en el tiempo a cualquier otro commit de cualquier otra rama con los comandos ( \n",
    "    \n",
    "- `git reset id-commit`\n",
    "\n",
    "- ` git checkout rama`-o-`id-commit`\n"
   ]
  },
  {
   "cell_type": "markdown",
   "metadata": {},
   "source": [
    "  ## Resolución de conflictos al hacer un Merge\n",
    "\n",
    "  Git nunca borra nada a menos que se lo indiquemos. Cuando usamos los comandos git merge o git checkout estamos cambiando de rama pero creando un nuevo commit, no borrando ramas ni commits ( recuerda que puedes borrar commits con git reset / git branch -d ) \n",
    "  \n",
    "  Los archivos con conflictos por el comando git merge entran en un nuevo estado que conocemos como Unmerged.\n",
    "  \n",
    "  Funcionan muy parecido a los archivos en estado Unstaged, algo así como un estado intermedio entre Untracked y Unstaged, solo debemos ejecutar git add para pasarlos al área de Staging y git commit para aplicar los cambios en el repositorio."
   ]
  },
  {
   "cell_type": "markdown",
   "metadata": {},
   "source": [
    "  ## Fusión de ramas con Git Merge\n",
    "\n",
    "  El comando git merge nos permite crear un nuevo commit con la combinación de dos ramas, la rama donde nos encontramos cuando ejecutamos el comando y la rama que le pasamos después del comando\n",
    "\n",
    "- `git merge \"cualquier otra rama\"`\n"
   ]
  },
  {
   "cell_type": "markdown",
   "metadata": {},
   "source": [
    "### Materiales a mirar:\n",
    "\n",
    "- https://gabrielcoding.com/como-subir-un-proyecto-a-github-desde-visual-studio-code/ Alzar un proyecto a Github \n",
    "\n",
    "- https://docs.github.com/es/get-started/getting-started-with-git/managing-remote-repositories Administrar repositorio remoto \n",
    "\n",
    "- Link trabajar con repositorios git remotos https://docs.github.com/es/get-started/getting-started-with-git/managing-remote-repositories\n",
    "  \n",
    "- Git por primera vez https://git-scm.com/book/es/v2/Inicio---Sobre-el-Control-de-Versiones-Configurando-Git-por-primera-vez\n",
    "- Taller 1.0 https://workflowy.com/s/taller-git/jHh6pauPSqzvMZ1y \n",
    "- Taller 2.0 https://workflowy.com/s/taller-git-20/2ert4dXZhViQMxEg \n",
    "- Recursos Git hackathon https://workflowy.com/s/git/9Nypi0mGYidK2mUK \n",
    "- Tutorial Sergio https://github.com/forNerzul/learning_git_github\n",
    "- Diferencias entre Checkout y Switch https://linuxhandbook.com/git-switch-checkout/ \n",
    "- Crear repo desde terminal https://cli.github.com/manual/gh_repo_create\n",
    "- Tutorial Kevin https://gist.github.com/kedavema/04938e7d3825623cb660df02a581131c "
   ]
  },
  {
   "cell_type": "markdown",
   "metadata": {},
   "source": []
  }
 ],
 "metadata": {
  "kernelspec": {
   "display_name": "Python 3.10.6 64-bit",
   "language": "python",
   "name": "python3"
  },
  "language_info": {
   "name": "python",
   "version": "3.10.6"
  },
  "orig_nbformat": 4,
  "vscode": {
   "interpreter": {
    "hash": "916dbcbb3f70747c44a77c7bcd40155683ae19c65e1c03b4aa3499c5328201f1"
   }
  }
 },
 "nbformat": 4,
 "nbformat_minor": 2
}
