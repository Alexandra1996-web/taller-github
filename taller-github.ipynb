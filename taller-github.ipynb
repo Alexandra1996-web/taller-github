{
 "cells": [
  {
   "cell_type": "markdown",
   "metadata": {},
   "source": [
    "### **Control de versiones:** Taller Github 🥳\n",
    "\n",
    "\n"
   ]
  },
  {
   "cell_type": "markdown",
   "metadata": {},
   "source": [
    "### **Git y Github**\n",
    "\n",
    "Git es un sistema de control de versiones distribuido, gratuito y de código abierto. Es decir, es un tipo de software pensando para hacer un seguimiento claro y ordenado de todos los cambios que vas haciendo en los archivos de un proyecto. Mejor todavía, te permite hacerlo en equipo, de forma colaborativa.\n",
    "\n",
    "Gracias al software de control de versiones, podés mantener tus archivos organizados, coordinados y protegidos, tanto de posibles eventos catastróficos como de los inevitables errores cometidos por tus compañeros de equipo (y bueno, también de los tuyos); si eso sucede es fácil solucionar el problema rescatando lo que haga falta de una versión anterior."
   ]
  },
  {
   "cell_type": "markdown",
   "metadata": {},
   "source": [
    "# Aprender Git en 1 hora: \n",
    "\n",
    "- https://www.youtube.com/watch?v=VdGzPZ31ts8 \n"
   ]
  },
  {
   "cell_type": "markdown",
   "metadata": {},
   "source": [
    "### **Configuracion**\n",
    "\n",
    "\n",
    "- git config --global user.name \"Alexandra1996-web\"\n",
    "\n",
    "- git config --global user.email \"alexcaceres@ieee.org\""
   ]
  },
  {
   "cell_type": "markdown",
   "metadata": {},
   "source": [
    "### **Lista de comandos Git**\n",
    "\n",
    "- git init \n",
    "  \n",
    "  #Indicamos que el directorio donde nos encontramos comenzará a ser versionado bajo Git.\n",
    "\n",
    "- git branch -M main\n",
    "  \n",
    "  #Creaer la rama main. Una rama representa una línea independiente de desarrollo. Las ramas sirven como una abstracción de los procesos de cambio, preparación y confirmación. Puedes concebirlas como una forma de solicitar un nuevo directorio de trabajo, un nuevo entorno de ensayo o un nuevo historial de proyecto.\n",
    "\n",
    "- git remote add origin https://github.com/sofisil/test.git\n",
    "  \n",
    "  #Conectarse remotamente al repositorio de GitHub con el HTTP.\n",
    "\n",
    "  #Los repositorios remotos son versiones de tu proyecto que están hospedadas en Internet o en cualquier otra red. Puedes tener varios de ellos, y en cada uno tendrás generalmente permisos de solo lectura o de lectura y escritura. Colaborar con otras personas implica gestionar estos repositorios remotos enviando y trayendo datos de ellos cada vez que necesites compartir tu trabajo\n",
    "\n",
    "- git status \n",
    "  \n",
    "  #Vemos el estado actual de nuestra carpeta versionada así como archivos que no están versionados, archivos modificados, archivos eliminados, etc.\n",
    "\n",
    "  #Los mensajes que podremos ver con este comando pueden ser los siguientes: \n",
    "  - Untracked files: nos mostrará todos los archivos que no han sido agregados al \"Stage\" \n",
    "  - Changes to be committed: nos indica qué archivos serán agregados a nuestro commit.\n",
    "  #\n",
    "\n",
    "- git add . \n",
    "  \n",
    "  #Agrega los archivos que no están bajo versionamiento (los Untracked files que vimos anteriormente) al área de preparación(Staging Area). \n",
    "\n",
    "- git add ArchivoEjemplo.py\n",
    "\n",
    "  #crea el archivo pero no lo guarda de forma definitiva, lo almacena en (Staging Area).\n",
    "\n",
    "- git commit -m \"mensaje\"\n",
    "\n",
    "  #Confirma los cambios hechos con \"git add\" en una nueva versión del proyecto; con el parámetro \"-m\" le indicamos un mensaje para describir la razón del commit.\n",
    "\n",
    "\n",
    "- git pull origin main\n",
    "\n",
    "  #Trae los archivos del repositorio que esta en GitHub a la carpeta local\n",
    "\n",
    "  #Al ser usado luego descargará todos los cambios desde el punto de separación de la rama local y la rama principal\n",
    "\n",
    "- git push origin main\n",
    "\n",
    "  #Enviar los cambios de la carpeta locl  al repositorio en GitHub\n",
    "\n",
    "\n",
    "- git log \"archivo.txt\" \n",
    "\n",
    "  #sirve para ver el historial del archivo.\n",
    "\n",
    "- git log\n",
    "\n",
    "  #Muestra la identificacion de los commits\n",
    "\n",
    "- git reset HEAD\n",
    "\n",
    "  #nos ayuda a sacar los archivos del estado Staged para devolverlos a su estado anterior. Si los archivos venian de Unstaged, vuelven alli. Y lo mismo si venian de Untracked."
   ]
  },
  {
   "cell_type": "markdown",
   "metadata": {},
   "source": [
    "### Materiales a mirar:\n",
    "\n",
    "- https://gabrielcoding.com/como-subir-un-proyecto-a-github-desde-visual-studio-code/ Alzar un proyecto a Github \n",
    "\n",
    "- https://docs.github.com/es/get-started/getting-started-with-git/managing-remote-repositories Administrar repositorio remoto \n",
    "\n",
    "- Link trabajar con repositorios git remotos https://docs.github.com/es/get-started/getting-started-with-git/managing-remote-repositories\n",
    "  \n",
    "- Git por primera vez https://git-scm.com/book/es/v2/Inicio---Sobre-el-Control-de-Versiones-Configurando-Git-por-primera-vez\n",
    "- Taller 1.0 https://workflowy.com/s/taller-git/jHh6pauPSqzvMZ1y \n",
    "- Taller 2.0 https://workflowy.com/s/taller-git-20/2ert4dXZhViQMxEg \n",
    "- Recursos Git hackathon https://workflowy.com/s/git/9Nypi0mGYidK2mUK \n",
    "- Tutorial Sergio https://github.com/forNerzul/learning_git_github"
   ]
  },
  {
   "cell_type": "markdown",
   "metadata": {},
   "source": []
  }
 ],
 "metadata": {
  "kernelspec": {
   "display_name": "Python 3.10.6 64-bit",
   "language": "python",
   "name": "python3"
  },
  "language_info": {
   "name": "python",
   "version": "3.10.6"
  },
  "orig_nbformat": 4,
  "vscode": {
   "interpreter": {
    "hash": "916dbcbb3f70747c44a77c7bcd40155683ae19c65e1c03b4aa3499c5328201f1"
   }
  }
 },
 "nbformat": 4,
 "nbformat_minor": 2
}
